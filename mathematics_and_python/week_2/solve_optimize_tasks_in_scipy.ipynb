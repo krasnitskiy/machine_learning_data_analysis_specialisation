{
 "cells": [
  {
   "cell_type": "code",
   "execution_count": 3,
   "metadata": {},
   "outputs": [],
   "source": [
    "from scipy import optimize"
   ]
  },
  {
   "cell_type": "code",
   "execution_count": 5,
   "metadata": {},
   "outputs": [],
   "source": [
    "def f(x): # The rosenblock function\n",
    "    return 5 * (1 - x[0]) ** 2 + (x[1] - x[0] ** 2) ** 2"
   ]
  },
  {
   "cell_type": "code",
   "execution_count": 6,
   "metadata": {},
   "outputs": [
    {
     "name": "stdout",
     "output_type": "stream",
     "text": [
      "0\n"
     ]
    }
   ],
   "source": [
    "print(f([1, 1]))"
   ]
  },
  {
   "cell_type": "code",
   "execution_count": 8,
   "metadata": {},
   "outputs": [
    {
     "name": "stdout",
     "output_type": "stream",
     "text": [
      "[1.00001461 1.00002194]\n"
     ]
    }
   ],
   "source": [
    "result = optimize.brute(f, ((-5, 5), (-5, 5)))\n",
    "print(result)"
   ]
  },
  {
   "cell_type": "code",
   "execution_count": 9,
   "metadata": {},
   "outputs": [
    {
     "name": "stdout",
     "output_type": "stream",
     "text": [
      "     fun: 2.9582283945787943e-31\n",
      " message: 'Optimization terminated successfully.'\n",
      "    nfev: 3123\n",
      "     nit: 103\n",
      " success: True\n",
      "       x: array([1., 1.])\n"
     ]
    }
   ],
   "source": [
    "print(optimize.differential_evolution(f, ((-5, 5), (-5, 5))))"
   ]
  },
  {
   "cell_type": "code",
   "execution_count": 10,
   "metadata": {},
   "outputs": [],
   "source": [
    "import numpy as np\n",
    "\n",
    "def g(x):\n",
    "    return np.array((-2*5*(1- x[0]) - 4*x[0]*(x[1] - x[0]**2), 2*(x[1] - x[0]**2)))"
   ]
  },
  {
   "cell_type": "code",
   "execution_count": 11,
   "metadata": {},
   "outputs": [
    {
     "name": "stdout",
     "output_type": "stream",
     "text": [
      "2.384185791015625e-07\n"
     ]
    }
   ],
   "source": [
    "print(optimize.check_grad(f, g, [2, 2]))"
   ]
  },
  {
   "cell_type": "code",
   "execution_count": 12,
   "metadata": {},
   "outputs": [
    {
     "name": "stdout",
     "output_type": "stream",
     "text": [
      "Optimization terminated successfully.\n",
      "         Current function value: 0.000000\n",
      "         Iterations: 7\n",
      "         Function evaluations: 8\n",
      "         Gradient evaluations: 8\n",
      "[1. 1.]\n"
     ]
    }
   ],
   "source": [
    "print(optimize.fmin_bfgs(f, [2, 2], fprime=g))"
   ]
  },
  {
   "cell_type": "code",
   "execution_count": 13,
   "metadata": {},
   "outputs": [
    {
     "name": "stdout",
     "output_type": "stream",
     "text": [
      "      fun: 1.4104476254718391e-15\n",
      " hess_inv: array([[0.09998587, 0.20001781],\n",
      "       [0.20001781, 0.89991211]])\n",
      "      jac: array([-2.70616421e-10, -1.76561876e-10])\n",
      "  message: 'Optimization terminated successfully.'\n",
      "     nfev: 32\n",
      "      nit: 7\n",
      "     njev: 8\n",
      "   status: 0\n",
      "  success: True\n",
      "        x: array([0.99999998, 0.99999996])\n"
     ]
    }
   ],
   "source": [
    "print(optimize.minimize(f, [2, 2]))"
   ]
  },
  {
   "cell_type": "code",
   "execution_count": 14,
   "metadata": {},
   "outputs": [
    {
     "name": "stdout",
     "output_type": "stream",
     "text": [
      "      fun: 2.7246050560568326e-20\n",
      " hess_inv: array([[0.09998587, 0.20001782],\n",
      "       [0.20001782, 0.89991213]])\n",
      "      jac: array([-2.70614642e-10, -1.76562098e-10])\n",
      "  message: 'Optimization terminated successfully.'\n",
      "     nfev: 8\n",
      "      nit: 7\n",
      "     njev: 8\n",
      "   status: 0\n",
      "  success: True\n",
      "        x: array([1., 1.])\n"
     ]
    }
   ],
   "source": [
    "print(optimize.minimize(f, [2, 2], method='BFGS', jac=g))"
   ]
  },
  {
   "cell_type": "code",
   "execution_count": 16,
   "metadata": {},
   "outputs": [
    {
     "name": "stdout",
     "output_type": "stream",
     "text": [
      " final_simplex: (array([[1.00000795, 0.99997549],\n",
      "       [0.99997041, 0.99990086],\n",
      "       [0.99997159, 1.00003024]]), array([1.94877855e-09, 5.97464432e-09, 1.16128206e-08]))\n",
      "           fun: 1.948778549145414e-09\n",
      "       message: 'Optimization terminated successfully.'\n",
      "          nfev: 78\n",
      "           nit: 42\n",
      "        status: 0\n",
      "       success: True\n",
      "             x: array([1.00000795, 0.99997549])\n"
     ]
    }
   ],
   "source": [
    "print(optimize.minimize(f, [2, 2], method='Nelder-Mead'))"
   ]
  }
 ],
 "metadata": {
  "kernelspec": {
   "display_name": "Python 3",
   "language": "python",
   "name": "python3"
  },
  "language_info": {
   "codemirror_mode": {
    "name": "ipython",
    "version": 3
   },
   "file_extension": ".py",
   "mimetype": "text/x-python",
   "name": "python",
   "nbconvert_exporter": "python",
   "pygments_lexer": "ipython3",
   "version": "3.7.3"
  }
 },
 "nbformat": 4,
 "nbformat_minor": 2
}
